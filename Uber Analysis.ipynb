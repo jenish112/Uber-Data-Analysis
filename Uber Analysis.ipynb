{
 "cells": [
  {
   "cell_type": "markdown",
   "id": "3c499b51",
   "metadata": {},
   "source": [
    "# **Uber Data Analysis With Python**"
   ]
  },
  {
   "cell_type": "markdown",
   "id": "f2b8015b",
   "metadata": {},
   "source": [
    "**Uber Technologies, Inc.** (commonly referred to as **Uber**) provides ride-hailing services, food delivery, and freight transport. It is headquartered in San Francisco and operates in approximately 70 countries and 10,500 cities worldwide. The company has over 131 million monthly active users and 6 million active drivers and couriers worldwide and facilitates an average of 25 million trips per day. It has facilitated 42 billion trips since its inception in 2010 and is the largest ridesharing company in the United States."
   ]
  },
  {
   "cell_type": "markdown",
   "id": "0fc54d86",
   "metadata": {},
   "source": [
    "I will ask these questions during analysis:\n",
    "\n",
    "* How many Categories do we have?\n",
    "* Check how long do people travel with Uber?\n",
    "* What Hour Do Most People Take Uber To Their Destination?\n",
    "* Check The Purpose Of Trips\n",
    "* Which Day Has The Highest Number Of Trips\n",
    "* What Are The Number Of Trips Per Each Day?\n",
    "* What Are The Trips In The Month?"
   ]
  },
  {
   "cell_type": "markdown",
   "id": "866bcf93",
   "metadata": {},
   "source": [
    "# Import The Necessary Libraries"
   ]
  },
  {
   "cell_type": "code",
   "execution_count": 55,
   "id": "7e9c9cae",
   "metadata": {},
   "outputs": [],
   "source": [
    "# Importing libraries\n",
    "\n",
    "import pandas as pd \n",
    "import numpy as np\n",
    "import matplotlib.pyplot as plt\n",
    "import seaborn as sns\n",
    "import datetime\n",
    "import calendar"
   ]
  },
  {
   "cell_type": "code",
   "execution_count": 56,
   "id": "8b3a145c",
   "metadata": {},
   "outputs": [
    {
     "data": {
      "text/html": [
       "<div>\n",
       "<style scoped>\n",
       "    .dataframe tbody tr th:only-of-type {\n",
       "        vertical-align: middle;\n",
       "    }\n",
       "\n",
       "    .dataframe tbody tr th {\n",
       "        vertical-align: top;\n",
       "    }\n",
       "\n",
       "    .dataframe thead th {\n",
       "        text-align: right;\n",
       "    }\n",
       "</style>\n",
       "<table border=\"1\" class=\"dataframe\">\n",
       "  <thead>\n",
       "    <tr style=\"text-align: right;\">\n",
       "      <th></th>\n",
       "      <th>START_DATE*</th>\n",
       "      <th>END_DATE*</th>\n",
       "      <th>CATEGORY*</th>\n",
       "      <th>START*</th>\n",
       "      <th>STOP*</th>\n",
       "      <th>MILES*</th>\n",
       "      <th>PURPOSE*</th>\n",
       "    </tr>\n",
       "  </thead>\n",
       "  <tbody>\n",
       "    <tr>\n",
       "      <th>0</th>\n",
       "      <td>1/1/2016 21:11</td>\n",
       "      <td>1/1/2016 21:17</td>\n",
       "      <td>Business</td>\n",
       "      <td>Fort Pierce</td>\n",
       "      <td>Fort Pierce</td>\n",
       "      <td>5.1</td>\n",
       "      <td>Meal/Entertain</td>\n",
       "    </tr>\n",
       "    <tr>\n",
       "      <th>1</th>\n",
       "      <td>1/2/2016 1:25</td>\n",
       "      <td>1/2/2016 1:37</td>\n",
       "      <td>Business</td>\n",
       "      <td>Fort Pierce</td>\n",
       "      <td>Fort Pierce</td>\n",
       "      <td>5.0</td>\n",
       "      <td>NaN</td>\n",
       "    </tr>\n",
       "    <tr>\n",
       "      <th>2</th>\n",
       "      <td>1/2/2016 20:25</td>\n",
       "      <td>1/2/2016 20:38</td>\n",
       "      <td>Business</td>\n",
       "      <td>Fort Pierce</td>\n",
       "      <td>Fort Pierce</td>\n",
       "      <td>4.8</td>\n",
       "      <td>Errand/Supplies</td>\n",
       "    </tr>\n",
       "    <tr>\n",
       "      <th>3</th>\n",
       "      <td>1/5/2016 17:31</td>\n",
       "      <td>1/5/2016 17:45</td>\n",
       "      <td>Business</td>\n",
       "      <td>Fort Pierce</td>\n",
       "      <td>Fort Pierce</td>\n",
       "      <td>4.7</td>\n",
       "      <td>Meeting</td>\n",
       "    </tr>\n",
       "    <tr>\n",
       "      <th>4</th>\n",
       "      <td>1/6/2016 14:42</td>\n",
       "      <td>1/6/2016 15:49</td>\n",
       "      <td>Business</td>\n",
       "      <td>Fort Pierce</td>\n",
       "      <td>West Palm Beach</td>\n",
       "      <td>63.7</td>\n",
       "      <td>Customer Visit</td>\n",
       "    </tr>\n",
       "  </tbody>\n",
       "</table>\n",
       "</div>"
      ],
      "text/plain": [
       "      START_DATE*       END_DATE* CATEGORY*       START*            STOP*  \\\n",
       "0  1/1/2016 21:11  1/1/2016 21:17  Business  Fort Pierce      Fort Pierce   \n",
       "1   1/2/2016 1:25   1/2/2016 1:37  Business  Fort Pierce      Fort Pierce   \n",
       "2  1/2/2016 20:25  1/2/2016 20:38  Business  Fort Pierce      Fort Pierce   \n",
       "3  1/5/2016 17:31  1/5/2016 17:45  Business  Fort Pierce      Fort Pierce   \n",
       "4  1/6/2016 14:42  1/6/2016 15:49  Business  Fort Pierce  West Palm Beach   \n",
       "\n",
       "   MILES*         PURPOSE*  \n",
       "0     5.1   Meal/Entertain  \n",
       "1     5.0              NaN  \n",
       "2     4.8  Errand/Supplies  \n",
       "3     4.7          Meeting  \n",
       "4    63.7   Customer Visit  "
      ]
     },
     "execution_count": 56,
     "metadata": {},
     "output_type": "execute_result"
    }
   ],
   "source": [
    "# Reading csv file\n",
    "\n",
    "df = pd.read_csv('Uber Drives.csv')\n",
    "\n",
    "df.head()"
   ]
  },
  {
   "cell_type": "markdown",
   "id": "408de69f",
   "metadata": {},
   "source": [
    "## Data Exploration and Data Cleaning"
   ]
  },
  {
   "cell_type": "markdown",
   "id": "64f8ed17",
   "metadata": {},
   "source": [
    "<span style=\"font-size: 18px;\">Checking for Mising Values</span></br>\n",
    "Let's check below if there is any missing values."
   ]
  },
  {
   "cell_type": "code",
   "execution_count": 57,
   "id": "082244fa",
   "metadata": {},
   "outputs": [
    {
     "data": {
      "text/plain": [
       "START_DATE*    False\n",
       "END_DATE*       True\n",
       "CATEGORY*       True\n",
       "START*          True\n",
       "STOP*           True\n",
       "MILES*         False\n",
       "PURPOSE*        True\n",
       "dtype: bool"
      ]
     },
     "execution_count": 57,
     "metadata": {},
     "output_type": "execute_result"
    }
   ],
   "source": [
    "# Checking missing values\n",
    "\n",
    "df.isnull().any()"
   ]
  },
  {
   "cell_type": "code",
   "execution_count": 58,
   "id": "be147c45",
   "metadata": {},
   "outputs": [
    {
     "data": {
      "text/plain": [
       "START_DATE*      0\n",
       "END_DATE*        1\n",
       "CATEGORY*        1\n",
       "START*           1\n",
       "STOP*            1\n",
       "MILES*           0\n",
       "PURPOSE*       503\n",
       "dtype: int64"
      ]
     },
     "execution_count": 58,
     "metadata": {},
     "output_type": "execute_result"
    }
   ],
   "source": [
    "# Counting the missing values\n",
    "\n",
    "df.isnull().sum()"
   ]
  },
  {
   "cell_type": "markdown",
   "id": "b3eae351",
   "metadata": {},
   "source": [
    "Look's like there is some null values in our dataset. Let's clear those."
   ]
  },
  {
   "cell_type": "code",
   "execution_count": 59,
   "id": "61f48d4e",
   "metadata": {},
   "outputs": [],
   "source": [
    "# Dropping all Null values\n",
    "\n",
    "df = df.dropna()"
   ]
  },
  {
   "cell_type": "code",
   "execution_count": 60,
   "id": "d43b36ed",
   "metadata": {},
   "outputs": [
    {
     "data": {
      "text/plain": [
       "START_DATE*    0\n",
       "END_DATE*      0\n",
       "CATEGORY*      0\n",
       "START*         0\n",
       "STOP*          0\n",
       "MILES*         0\n",
       "PURPOSE*       0\n",
       "dtype: int64"
      ]
     },
     "execution_count": 60,
     "metadata": {},
     "output_type": "execute_result"
    }
   ],
   "source": [
    "# Checking missing values\n",
    "\n",
    "df.isnull().sum()"
   ]
  },
  {
   "cell_type": "markdown",
   "id": "485e2da3",
   "metadata": {},
   "source": [
    "Now, we can see that there are no missing values in the dataset. However, removing missing values is not always the best approach for analysis. In this case, null values were present in categorical columns, which is why I removed them."
   ]
  },
  {
   "cell_type": "code",
   "execution_count": 61,
   "id": "684eeacc",
   "metadata": {},
   "outputs": [],
   "source": [
    "# Changing datatype\n",
    "\n",
    "df['START_DATE*'] = pd.to_datetime(df['START_DATE*'], format = '%m/%d/%Y %H:%M')\n",
    "df['END_DATE*'] = pd.to_datetime(df['END_DATE*'], format = '%m/%d/%Y %H:%M')"
   ]
  },
  {
   "cell_type": "code",
   "execution_count": 44,
   "id": "6b383b26",
   "metadata": {},
   "outputs": [
    {
     "data": {
      "text/plain": [
       "START_DATE*    datetime64[ns]\n",
       "END_DATE*      datetime64[ns]\n",
       "CATEGORY*              object\n",
       "START*                 object\n",
       "STOP*                  object\n",
       "MILES*                float64\n",
       "PURPOSE*               object\n",
       "dtype: object"
      ]
     },
     "execution_count": 44,
     "metadata": {},
     "output_type": "execute_result"
    }
   ],
   "source": [
    "# Again, checking datatype\n",
    "\n",
    "df.dtypes"
   ]
  },
  {
   "cell_type": "markdown",
   "id": "3b8991d9",
   "metadata": {},
   "source": [
    "Changing datatypes of 'START_DATE' and 'END_DATE' from object to datetime64."
   ]
  },
  {
   "cell_type": "code",
   "execution_count": 63,
   "id": "6e932968",
   "metadata": {},
   "outputs": [],
   "source": [
    "# Extracting some features\n",
    "\n",
    "hour = []\n",
    "day = []\n",
    "month = []\n",
    "weekday = []\n",
    "dayofweek = []\n",
    "\n",
    "for x in df['START_DATE*']:\n",
    "    hour.append(x.hour)\n",
    "    day.append(x.day)\n",
    "    month.append(x.month)\n",
    "    dayofweek.append(x.dayofweek)\n",
    "    weekday.append(calendar.day_name[dayofweek[-1]])\n",
    "    \n",
    "df['HOUR'] = hour\n",
    "df['DAY'] = day\n",
    "df['MONTH'] = month\n",
    "df['WEEKDAY'] = weekday\n",
    "df['DAY OF WEEK'] = dayofweek"
   ]
  },
  {
   "cell_type": "code",
   "execution_count": 65,
   "id": "ee0ab8af",
   "metadata": {},
   "outputs": [
    {
     "data": {
      "text/html": [
       "<div>\n",
       "<style scoped>\n",
       "    .dataframe tbody tr th:only-of-type {\n",
       "        vertical-align: middle;\n",
       "    }\n",
       "\n",
       "    .dataframe tbody tr th {\n",
       "        vertical-align: top;\n",
       "    }\n",
       "\n",
       "    .dataframe thead th {\n",
       "        text-align: right;\n",
       "    }\n",
       "</style>\n",
       "<table border=\"1\" class=\"dataframe\">\n",
       "  <thead>\n",
       "    <tr style=\"text-align: right;\">\n",
       "      <th></th>\n",
       "      <th>START_DATE*</th>\n",
       "      <th>END_DATE*</th>\n",
       "      <th>CATEGORY*</th>\n",
       "      <th>START*</th>\n",
       "      <th>STOP*</th>\n",
       "      <th>MILES*</th>\n",
       "      <th>PURPOSE*</th>\n",
       "      <th>HOUR</th>\n",
       "      <th>DAY</th>\n",
       "      <th>MONTH</th>\n",
       "      <th>WEEKDAY</th>\n",
       "      <th>DAY OF WEEK</th>\n",
       "    </tr>\n",
       "  </thead>\n",
       "  <tbody>\n",
       "    <tr>\n",
       "      <th>0</th>\n",
       "      <td>2016-01-01 21:11:00</td>\n",
       "      <td>2016-01-01 21:17:00</td>\n",
       "      <td>Business</td>\n",
       "      <td>Fort Pierce</td>\n",
       "      <td>Fort Pierce</td>\n",
       "      <td>5.1</td>\n",
       "      <td>Meal/Entertain</td>\n",
       "      <td>21</td>\n",
       "      <td>1</td>\n",
       "      <td>1</td>\n",
       "      <td>Friday</td>\n",
       "      <td>4</td>\n",
       "    </tr>\n",
       "    <tr>\n",
       "      <th>2</th>\n",
       "      <td>2016-01-02 20:25:00</td>\n",
       "      <td>2016-01-02 20:38:00</td>\n",
       "      <td>Business</td>\n",
       "      <td>Fort Pierce</td>\n",
       "      <td>Fort Pierce</td>\n",
       "      <td>4.8</td>\n",
       "      <td>Errand/Supplies</td>\n",
       "      <td>20</td>\n",
       "      <td>2</td>\n",
       "      <td>1</td>\n",
       "      <td>Saturday</td>\n",
       "      <td>5</td>\n",
       "    </tr>\n",
       "    <tr>\n",
       "      <th>3</th>\n",
       "      <td>2016-01-05 17:31:00</td>\n",
       "      <td>2016-01-05 17:45:00</td>\n",
       "      <td>Business</td>\n",
       "      <td>Fort Pierce</td>\n",
       "      <td>Fort Pierce</td>\n",
       "      <td>4.7</td>\n",
       "      <td>Meeting</td>\n",
       "      <td>17</td>\n",
       "      <td>5</td>\n",
       "      <td>1</td>\n",
       "      <td>Tuesday</td>\n",
       "      <td>1</td>\n",
       "    </tr>\n",
       "    <tr>\n",
       "      <th>4</th>\n",
       "      <td>2016-01-06 14:42:00</td>\n",
       "      <td>2016-01-06 15:49:00</td>\n",
       "      <td>Business</td>\n",
       "      <td>Fort Pierce</td>\n",
       "      <td>West Palm Beach</td>\n",
       "      <td>63.7</td>\n",
       "      <td>Customer Visit</td>\n",
       "      <td>14</td>\n",
       "      <td>6</td>\n",
       "      <td>1</td>\n",
       "      <td>Wednesday</td>\n",
       "      <td>2</td>\n",
       "    </tr>\n",
       "    <tr>\n",
       "      <th>5</th>\n",
       "      <td>2016-01-06 17:15:00</td>\n",
       "      <td>2016-01-06 17:19:00</td>\n",
       "      <td>Business</td>\n",
       "      <td>West Palm Beach</td>\n",
       "      <td>West Palm Beach</td>\n",
       "      <td>4.3</td>\n",
       "      <td>Meal/Entertain</td>\n",
       "      <td>17</td>\n",
       "      <td>6</td>\n",
       "      <td>1</td>\n",
       "      <td>Wednesday</td>\n",
       "      <td>2</td>\n",
       "    </tr>\n",
       "  </tbody>\n",
       "</table>\n",
       "</div>"
      ],
      "text/plain": [
       "          START_DATE*           END_DATE* CATEGORY*           START*  \\\n",
       "0 2016-01-01 21:11:00 2016-01-01 21:17:00  Business      Fort Pierce   \n",
       "2 2016-01-02 20:25:00 2016-01-02 20:38:00  Business      Fort Pierce   \n",
       "3 2016-01-05 17:31:00 2016-01-05 17:45:00  Business      Fort Pierce   \n",
       "4 2016-01-06 14:42:00 2016-01-06 15:49:00  Business      Fort Pierce   \n",
       "5 2016-01-06 17:15:00 2016-01-06 17:19:00  Business  West Palm Beach   \n",
       "\n",
       "             STOP*  MILES*         PURPOSE*  HOUR  DAY  MONTH    WEEKDAY  \\\n",
       "0      Fort Pierce     5.1   Meal/Entertain    21    1      1     Friday   \n",
       "2      Fort Pierce     4.8  Errand/Supplies    20    2      1   Saturday   \n",
       "3      Fort Pierce     4.7          Meeting    17    5      1    Tuesday   \n",
       "4  West Palm Beach    63.7   Customer Visit    14    6      1  Wednesday   \n",
       "5  West Palm Beach     4.3   Meal/Entertain    17    6      1  Wednesday   \n",
       "\n",
       "   DAY OF WEEK  \n",
       "0            4  \n",
       "2            5  \n",
       "3            1  \n",
       "4            2  \n",
       "5            2  "
      ]
     },
     "execution_count": 65,
     "metadata": {},
     "output_type": "execute_result"
    }
   ],
   "source": [
    "# Printing first 5 values\n",
    "\n",
    "df.head()"
   ]
  },
  {
   "cell_type": "markdown",
   "id": "ed788aae",
   "metadata": {},
   "source": [
    "I extracted 'Hour', 'Day', 'Month', 'Weekday' and 'Day of week' from 'Start_date*' for further analysis."
   ]
  },
  {
   "cell_type": "markdown",
   "id": "ad7bdb03",
   "metadata": {},
   "source": [
    "### How many Category do we have?"
   ]
  },
  {
   "cell_type": "code",
   "execution_count": 69,
   "id": "fef055a1",
   "metadata": {},
   "outputs": [
    {
     "data": {
      "text/plain": [
       "CATEGORY*\n",
       "Business    647\n",
       "Personal      6\n",
       "Name: count, dtype: int64"
      ]
     },
     "execution_count": 69,
     "metadata": {},
     "output_type": "execute_result"
    }
   ],
   "source": [
    "# Counting unique values\n",
    "\n",
    "df['CATEGORY*'].value_counts()"
   ]
  },
  {
   "cell_type": "code",
   "execution_count": 67,
   "id": "8fd5a6e7",
   "metadata": {},
   "outputs": [
    {
     "data": {
      "text/plain": [
       "<Axes: xlabel='CATEGORY*', ylabel='count'>"
      ]
     },
     "execution_count": 67,
     "metadata": {},
     "output_type": "execute_result"
    },
    {
     "data": {
      "image/png": "[encoded data removed]",
      "text/plain": [
       "<Figure size 640x480 with 1 Axes>"
      ]
     },
     "metadata": {},
     "output_type": "display_data"
    }
   ],
   "source": [
    "# Bar Plot for 'CATEGORY'\n",
    "\n",
    "sns.countplot(x=\"CATEGORY*\", data = df)"
   ]
  },
  {
   "cell_type": "markdown",
   "id": "b1ab2ce7",
   "metadata": {},
   "source": [
    "We have huge amount of business rides than personal rides.</br>\n",
    "**Idea:** Uber can provides membership for those customers who are connected with business."
   ]
  },
  {
   "cell_type": "markdown",
   "id": "519c8114",
   "metadata": {},
   "source": [
    "### **How long do people travel with Uber?**"
   ]
  },
  {
   "cell_type": "code",
   "execution_count": 71,
   "id": "b9803bd9",
   "metadata": {},
   "outputs": [
    {
     "data": {
      "text/plain": [
       "<Axes: ylabel='Frequency'>"
      ]
     },
     "execution_count": 71,
     "metadata": {},
     "output_type": "execute_result"
    },
    {
     "data": {
      "image/png": "[encoded data removed]",
      "text/plain": [
       "<Figure size 640x480 with 1 Axes>"
      ]
     },
     "metadata": {},
     "output_type": "display_data"
    }
   ],
   "source": [
    "# Bar Plot for 'MILES'\n",
    "\n",
    "df['MILES*'].plot.hist()"
   ]
  },
  {
   "cell_type": "markdown",
   "id": "c01704fe",
   "metadata": {},
   "source": [
    "Interestingly, Uber customer takes rides only for short miles.</br>\n",
    "**Idea:** To attract more, Uber can give some discounts or coupons for short distance travelers."
   ]
  },
  {
   "cell_type": "markdown",
   "id": "64b230e5",
   "metadata": {},
   "source": [
    "### **What Hour Do Most People Take Uber To Their Destination?**"
   ]
  },
  {
   "cell_type": "code",
   "execution_count": 73,
   "id": "3425aa8f",
   "metadata": {
    "scrolled": false
   },
   "outputs": [
    {
     "data": {
      "text/plain": [
       "Text(0.5, 1.0, 'Number of Trip vs Hours')"
      ]
     },
     "execution_count": 73,
     "metadata": {},
     "output_type": "execute_result"
    },
    {
     "data": {
      "image/png": "[encoded data removed]",
      "text/plain": [
       "<Figure size 1000x500 with 1 Axes>"
      ]
     },
     "metadata": {},
     "output_type": "display_data"
    }
   ],
   "source": [
    "# Bar Plot of Hours to reach destination\n",
    "\n",
    "hours = df['START_DATE*'].dt.hour.value_counts()\n",
    "\n",
    "hours.plot(kind='bar', color='green', figsize=(10,5))\n",
    "plt.xlabel('Hours')\n",
    "plt.ylabel('Frequency')\n",
    "plt.title('Number of Trip vs Hours')"
   ]
  },
  {
   "cell_type": "markdown",
   "id": "ba3172c2",
   "metadata": {},
   "source": [
    "As we can see most people take Uber at around 13 (1 PM) and least hour is 2 AM. </br>\n",
    "**Idea**: Uber can do their marketing between 13 to 18 time, because most of users are using their application around this time line."
   ]
  },
  {
   "cell_type": "markdown",
   "id": "f54c3901",
   "metadata": {},
   "source": [
    "### **Check The Purpose Of Trips**"
   ]
  },
  {
   "cell_type": "code",
   "execution_count": 75,
   "id": "a4fd5099",
   "metadata": {},
   "outputs": [
    {
     "data": {
      "text/plain": [
       "<Axes: xlabel='PURPOSE*'>"
      ]
     },
     "execution_count": 75,
     "metadata": {},
     "output_type": "execute_result"
    },
    {
     "data": {
      "image/png": "[encoded data removed]",
      "text/plain": [
       "<Figure size 1500x500 with 1 Axes>"
      ]
     },
     "metadata": {},
     "output_type": "display_data"
    }
   ],
   "source": [
    "# Plot for 'Purpose' category\n",
    "\n",
    "df['PURPOSE*'].value_counts().plot(kind='bar',figsize=(15,5), color=\"red\")"
   ]
  },
  {
   "cell_type": "markdown",
   "id": "2cbc2585",
   "metadata": {},
   "source": [
    "We can notice that most of purpose of rides are Meeting and Meal/Entertain.</br>\n",
    "**Idea:** My suggestion is that Uber drivers should stay near meeting halls or entertainment spots, such as movie theaters or parks, because by staying nearby, they can attract more customers. If Uber drivers earn more, the company will also receive higher commissions."
   ]
  },
  {
   "cell_type": "markdown",
   "id": "b6a2bb2f",
   "metadata": {},
   "source": [
    "### **Which Day Has The Highest Number Of Trips**"
   ]
  },
  {
   "cell_type": "code",
   "execution_count": 77,
   "id": "04dc320d",
   "metadata": {},
   "outputs": [
    {
     "data": {
      "text/plain": [
       "<Axes: xlabel='WEEKDAY'>"
      ]
     },
     "execution_count": 77,
     "metadata": {},
     "output_type": "execute_result"
    },
    {
     "data": {
      "image/png": "[encoded data removed]",
      "text/plain": [
       "<Figure size 1500x500 with 1 Axes>"
      ]
     },
     "metadata": {},
     "output_type": "display_data"
    }
   ],
   "source": [
    "# Plot for Weekday category \n",
    "\n",
    "df['WEEKDAY'].value_counts().plot(kind='bar', figsize=(15,5), color='brown')"
   ]
  },
  {
   "cell_type": "markdown",
   "id": "a27973df",
   "metadata": {},
   "source": [
    "Friday has the highest number of custmore, which is nearly 120.</br>\n",
    "**Idea:** Maybe due to holiday, most of people likes to ride on Friday. Uber can suggest some discount code on that day."
   ]
  },
  {
   "cell_type": "markdown",
   "id": "6a59fea6",
   "metadata": {},
   "source": [
    "### **What Are The Number Of Trips Per Each Day?**"
   ]
  },
  {
   "cell_type": "code",
   "execution_count": 78,
   "id": "c8e2a37f",
   "metadata": {},
   "outputs": [
    {
     "data": {
      "text/plain": [
       "<Axes: xlabel='DAY'>"
      ]
     },
     "execution_count": 78,
     "metadata": {},
     "output_type": "execute_result"
    },
    {
     "data": {
      "image/png": "[encoded data removed]",
      "text/plain": [
       "<Figure size 1500x500 with 1 Axes>"
      ]
     },
     "metadata": {},
     "output_type": "display_data"
    }
   ],
   "source": [
    "# Plot for Day\n",
    "\n",
    "df['DAY'].value_counts().plot(kind='bar', figsize=(15,5), color='orange')"
   ]
  },
  {
   "cell_type": "markdown",
   "id": "b11df4b9",
   "metadata": {},
   "source": [
    "As we can see, most people prefer to travel on particular dates, such as the 21st, 29th, 19th, and 18th. There could be many reasons, such as it being a Friday.</br> **Idea:** Uber can improve its marketing strategies on these days since there is a lot of crowd."
   ]
  },
  {
   "cell_type": "markdown",
   "id": "93b619be",
   "metadata": {},
   "source": [
    "### **What Are The Trips In The Month**"
   ]
  },
  {
   "cell_type": "code",
   "execution_count": 82,
   "id": "319031fd",
   "metadata": {},
   "outputs": [
    {
     "data": {
      "text/plain": [
       "<Axes: xlabel='MONTH'>"
      ]
     },
     "execution_count": 82,
     "metadata": {},
     "output_type": "execute_result"
    },
    {
     "data": {
      "image/png": "[encoded data removed]",
      "text/plain": [
       "<Figure size 1500x500 with 1 Axes>"
      ]
     },
     "metadata": {},
     "output_type": "display_data"
    }
   ],
   "source": [
    "# Plot for Month\n",
    "\n",
    "df['MONTH'].value_counts().plot(kind='bar', figsize=(15,5), color='pink')"
   ]
  },
  {
   "cell_type": "markdown",
   "id": "8afac15a",
   "metadata": {},
   "source": [
    "By looking at the graph, December month is most popular month among Uber customers, maybe becuase of Christmas Holidays. However, Augest has the least rides. </br> **Idea:** Uber should less focus on months like Octomer or Augest for their marketing. "
   ]
  },
  {
   "cell_type": "code",
   "execution_count": null,
   "id": "56c6f6b9",
   "metadata": {},
   "outputs": [],
   "source": []
  }
 ],
 "metadata": {
  "kernelspec": {
   "display_name": "Python 3 (ipykernel)",
   "language": "python",
   "name": "python3"
  },
  "language_info": {
   "codemirror_mode": {
    "name": "ipython",
    "version": 3
   },
   "file_extension": ".py",
   "mimetype": "text/x-python",
   "name": "python",
   "nbconvert_exporter": "python",
   "pygments_lexer": "ipython3",
   "version": "3.11.5"
  }
 },
 "nbformat": 4,
 "nbformat_minor": 5
}
